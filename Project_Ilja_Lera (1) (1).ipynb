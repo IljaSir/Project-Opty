{
 "cells": [
  {
   "cell_type": "code",
   "execution_count": 219,
   "metadata": {},
   "outputs": [],
   "source": [
    "import math\n",
    "import random\n",
    "import pylab\n",
    "from mpl_toolkits.mplot3d import Axes3D\n",
    "import numpy as np\n",
    "import sklearn\n",
    "from sklearn import datasets\n",
    "from matplotlib import pyplot as plt\n",
    "import time\n"
   ]
  },
  {
   "cell_type": "code",
   "execution_count": 39,
   "metadata": {},
   "outputs": [],
   "source": [
    "A = np.array([[2,11],[10,-11]]) #решение (2,1)\n",
    "b = np.array([15,9])\n",
    "l = 0\n"
   ]
  },
  {
   "cell_type": "code",
   "execution_count": 41,
   "metadata": {},
   "outputs": [
    {
     "name": "stdout",
     "output_type": "stream",
     "text": [
      "692\n",
      "[[ 208 -176]\n",
      " [-176  484]]\n"
     ]
    }
   ],
   "source": [
    "#оценим константу липшица\n",
    "B=2*A.T@A\n",
    "L=np.trace(B)\n",
    "print(L)\n",
    "print(B)\n"
   ]
  },
  {
   "cell_type": "code",
   "execution_count": 234,
   "metadata": {},
   "outputs": [],
   "source": [
    "iris = sklearn.datasets.load_iris()\n",
    "n = 2\n",
    "m = 150\n",
    "X = iris.data[:, :n]\n",
    "y = (iris.target != 0) * 1\n",
    "e = np.full(X.shape[0], 1)\n",
    "ex = np.column_stack((e, X))\n",
    "exy = np.column_stack((e, X, y))\n",
    "#print(exy)\n",
    "np.random.shuffle(exy)\n",
    "#print(exy)"
   ]
  },
  {
   "cell_type": "code",
   "execution_count": null,
   "metadata": {},
   "outputs": [],
   "source": [
    "#print(\"Введите размерность пространства: \")\n",
    "#n = int(input()) \n",
    "print(\"Введите матрицу \")\n",
    "A = np.array([list(map(int, input().split())), list(map(int, input().split()))])\n",
    "    \n",
    "print(\"Введите столбец значений \") \n",
    "b=np.array([int(j) for j in input().split()])"
   ]
  },
  {
   "cell_type": "code",
   "execution_count": 42,
   "metadata": {},
   "outputs": [],
   "source": [
    "def Function (x):\n",
    "    return np.linalg.norm(A.dot(x)-b)**2 + l*np.linalg.norm(x)"
   ]
  },
  {
   "cell_type": "code",
   "execution_count": 43,
   "metadata": {},
   "outputs": [],
   "source": [
    "def Grad (x):\n",
    "    if np.linalg.norm(x) == 0:\n",
    "        return 2*(A.T).dot(A.dot(x)-b)\n",
    "    return 2*(A.T).dot(A.dot(x)-b) + l*x/np.linalg.norm(x)"
   ]
  },
  {
   "cell_type": "code",
   "execution_count": 44,
   "metadata": {},
   "outputs": [],
   "source": [
    "def MirrorDescent (x0):\n",
    "    k=1\n",
    "    #h = 0.0001/k\n",
    "    g = Grad(x0)\n",
    "    sum =np.sum(x0*np.exp(-g/L))\n",
    "    if sum != 0:\n",
    "        x1=x0*np.exp(-g/L)/sum\n",
    "    else:\n",
    "        return \"SUM = 0\"\n",
    "    #d = np.append(xarr,x1)\n",
    "    while np.linalg.norm(x1-x0) > 0.000001:\n",
    "        #h = 0.0001/k\n",
    "        x0=x1\n",
    "        g = Grad(x0)\n",
    "        sum = np.sum(x0*np.exp(-g/L))\n",
    "        if sum != 0:\n",
    "            x1=x0*np.exp(-g/L)/sum\n",
    "        else:\n",
    "            return \"SUM = 0\"\n",
    "        k += 1\n",
    "        #d = np.append(d,x1)\n",
    "    return x1"
   ]
  },
  {
   "cell_type": "code",
   "execution_count": 45,
   "metadata": {},
   "outputs": [],
   "source": [
    "def makeData ():\n",
    "    x = np.arange (-10, 10, 0.1)\n",
    "    y = np.arange (-10, 10, 0.1)\n",
    "    xgrid, ygrid = np.meshgrid(x, y)\n",
    "    zgrid = np.ndarray(shape=(200,200))\n",
    "    for i in range(0,199):\n",
    "        for j in range(0,199):\n",
    "            zgrid[i][j] = Function(np.array([x[i],y[j]]))\n",
    "    return xgrid, ygrid, zgrid"
   ]
  },
  {
   "cell_type": "code",
   "execution_count": 46,
   "metadata": {},
   "outputs": [],
   "source": [
    "def Draw(d):\n",
    "    m=d.size\n",
    "    k=int(m/2)\n",
    "    coord1=[0 for i in range(k)]\n",
    "    coord2=[0 for i in range(k)]\n",
    "    for i in range (0,m,2):\n",
    "        coord1[int(i/2)]=d[i]\n",
    "        coord2[int(i/2)]=d[i+1]\n",
    "    coords = np.array([coord1,coord2])\n",
    "    coord3=[0 for i in range(k)]\n",
    "    for i in range (k):\n",
    "        coord3[i]=Function(np.array([coords[0][i],coords[1][i]]))\n",
    "    x, y, z = makeData()\n",
    "\n",
    "    fig = pylab.figure()\n",
    "    axes = Axes3D(fig)\n",
    "    \n",
    "    axes.scatter(coords[0], coords[1], coord3, color = 'black')\n",
    "    axes.plot_surface(x, y, z, alpha = 0.3, color = 'yellow')\n",
    "    \n",
    "\n",
    "    pylab.show()"
   ]
  },
  {
   "cell_type": "code",
   "execution_count": 145,
   "metadata": {},
   "outputs": [],
   "source": [
    "def Grad_descent(x0):\n",
    "    start_time = time.time()\n",
    "    xarr=np.array([])\n",
    "    #h=0.0001\n",
    "    x1=x0-Grad(x0)/L\n",
    "    d = np.append(xarr,x1)\n",
    "    while (np.linalg.norm(x1-x0) > 0.000001):\n",
    "        x0=x1\n",
    "        x1= x0-Grad(x0)/L\n",
    "        d = np.append(d,x1)\n",
    "    #Draw(d)\n",
    "    print(\"Time - \", time.time() - start_time)\n",
    "    return x1\n"
   ]
  },
  {
   "cell_type": "code",
   "execution_count": 146,
   "metadata": {},
   "outputs": [],
   "source": [
    "def sigmoid(theta, x):\n",
    "    x = np.delete(x,n+1)\n",
    "    return 1 / (1 + np.exp(-np.dot(theta.T,x)))"
   ]
  },
  {
   "cell_type": "code",
   "execution_count": 235,
   "metadata": {},
   "outputs": [],
   "source": [
    "def Grad_descent_log():\n",
    "    theta = np.zeros(n+1)\n",
    "    lr = 0.1\n",
    "    for _ in range(2000):\n",
    "        _sum = 0\n",
    "        for j in range(0,n+1):\n",
    "            #print(\"hey\")\n",
    "            for i in range(0,math.ceil(m/2)):\n",
    "                _sum += (sigmoid(theta, exy[i]) - exy[i][n+1])*exy[i][j]\n",
    "            #print(_sum)\n",
    "            theta[j] -= lr*_sum\n",
    "        #print(theta)\n",
    "    return theta"
   ]
  },
  {
   "cell_type": "code",
   "execution_count": 238,
   "metadata": {},
   "outputs": [],
   "source": [
    "def check():\n",
    "    theta = Grad_descent_log()\n",
    "    #print(theta)\n",
    "    counter = 0\n",
    "    for i in range(math.ceil(m/2), m):\n",
    "        ans = sigmoid(theta.T, exy[i])\n",
    "        #print(ans, y[i])\n",
    "        if math.ceil(ans-0.5) != exy[i][n+1]:\n",
    "            counter += 1\n",
    "    print(\"Ошибок в предсказании: \", counter)"
   ]
  },
  {
   "cell_type": "code",
   "execution_count": 239,
   "metadata": {},
   "outputs": [
    {
     "name": "stdout",
     "output_type": "stream",
     "text": [
      "Ошибок в предсказании:  1\n"
     ]
    }
   ],
   "source": [
    "check()"
   ]
  },
  {
   "cell_type": "code",
   "execution_count": 11,
   "metadata": {},
   "outputs": [],
   "source": [
    "def Delayed_Grad_descent(x0):\n",
    "    start_time = time.time()\n",
    "    #h=0.0001\n",
    "    arrx = []\n",
    "    list.append(arrx, x0)\n",
    "    g0 = Grad(x0)\n",
    "    x0 = x0 - g0/L\n",
    "    g1 = Grad(x0)\n",
    "    list.append(arrx, x0)\n",
    "    x0 = x0 - g0/L\n",
    "    list.append(arrx, x0)\n",
    "    #d = np.append(xarr,x1)\n",
    "    while (np.linalg.norm(arrx[-1]-arrx[-2]) > 0.000001):\n",
    "        list.append(arrx, (arrx[-1]-g1/L))\n",
    "        g1 = g0\n",
    "        g0 = Grad(arrx[-1])\n",
    "        #d = np.append(d,x1)\n",
    "    #Draw(d)\n",
    "    print(\"Time - \", time.time() - start_time)\n",
    "    return arrx[-1]"
   ]
  },
  {
   "cell_type": "code",
   "execution_count": 12,
   "metadata": {},
   "outputs": [],
   "source": [
    "def Dual(x0, z):\n",
    "    start_time = time.time()\n",
    "    x1 = x0 + 1\n",
    "    xarr=np.array([])\n",
    "    k = 1\n",
    "    d = np.append(xarr,x0)\n",
    "    while (np.linalg.norm(x1-x0) > 0.00001):\n",
    "        #q = 1/k\n",
    "        g = Grad(x0)\n",
    "        x1 = x0\n",
    "        z = z + g\n",
    "        x0 = -z/L\n",
    "        if np.linalg.norm(x0) < 100000: d = np.append(d,x0)\n",
    "        #print(\"X: \", x0)\n",
    "        k += 1\n",
    "    #Draw(d)\n",
    "    #print(d)\n",
    "    print(\"Time - \", time.time() - start_time)\n",
    "    return x0\n",
    "        "
   ]
  },
  {
   "cell_type": "code",
   "execution_count": 13,
   "metadata": {},
   "outputs": [
    {
     "name": "stdout",
     "output_type": "stream",
     "text": [
      "Time -  0.016953229904174805\n",
      "[2.00000387 1.00000188]\n"
     ]
    }
   ],
   "source": [
    "print(Grad_descent(np.array([3,2])))"
   ]
  },
  {
   "cell_type": "code",
   "execution_count": 14,
   "metadata": {},
   "outputs": [
    {
     "name": "stdout",
     "output_type": "stream",
     "text": [
      "[0.73563051 0.26436949]\n"
     ]
    }
   ],
   "source": [
    "print(MirrorDescent(np.array([3,2])))"
   ]
  },
  {
   "cell_type": "code",
   "execution_count": 15,
   "metadata": {},
   "outputs": [
    {
     "name": "stdout",
     "output_type": "stream",
     "text": [
      "Time -  0.0059816837310791016\n",
      "[2.00002674 0.99994505]\n"
     ]
    }
   ],
   "source": [
    "print(Delayed_Grad_descent(np.array([3,2])))"
   ]
  },
  {
   "cell_type": "code",
   "execution_count": 16,
   "metadata": {},
   "outputs": [
    {
     "name": "stdout",
     "output_type": "stream",
     "text": [
      "Time -  0.005984783172607422\n",
      "[1.99995874 0.99997992]\n"
     ]
    }
   ],
   "source": [
    "print(Dual(np.array([3,2]), np.array([1,2])))"
   ]
  },
  {
   "cell_type": "code",
   "execution_count": null,
   "metadata": {},
   "outputs": [],
   "source": []
  }
 ],
 "metadata": {
  "kernelspec": {
   "display_name": "Python 3",
   "language": "python",
   "name": "python3"
  },
  "language_info": {
   "codemirror_mode": {
    "name": "ipython",
    "version": 3
   },
   "file_extension": ".py",
   "mimetype": "text/x-python",
   "name": "python",
   "nbconvert_exporter": "python",
   "pygments_lexer": "ipython3",
   "version": "3.7.3"
  }
 },
 "nbformat": 4,
 "nbformat_minor": 2
}
