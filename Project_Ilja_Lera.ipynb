{
 "cells": [
  {
   "cell_type": "code",
   "execution_count": 103,
   "metadata": {},
   "outputs": [],
   "source": [
    "from math import *\n",
    "import pylab\n",
    "from mpl_toolkits.mplot3d import Axes3D\n",
    "import numpy as np\n",
    "from matplotlib import pyplot as plt \n"
   ]
  },
  {
   "cell_type": "code",
   "execution_count": 172,
   "metadata": {},
   "outputs": [],
   "source": [
    "A = np.array([[2,11],[10,-11]]) #решение (2,1)\n",
    "b = np.array([15,9])\n",
    "l = 0\n",
    "xarr=np.array([])"
   ]
  },
  {
   "cell_type": "code",
   "execution_count": 105,
   "metadata": {},
   "outputs": [],
   "source": [
    "def Function (x):\n",
    "    return np.linalg.norm(A.dot(x)-b)**2 + l*np.linalg.norm(x)"
   ]
  },
  {
   "cell_type": "code",
   "execution_count": 106,
   "metadata": {},
   "outputs": [],
   "source": [
    "def Grad (x):\n",
    "    if np.linalg.norm(x) == 0:\n",
    "        return 2*(A.T).dot(A.dot(x)-b)\n",
    "    return 2*(A.T).dot(A.dot(x)-b) + l*x/np.linalg.norm(x)"
   ]
  },
  {
   "cell_type": "code",
   "execution_count": 169,
   "metadata": {},
   "outputs": [],
   "source": [
    "def MirrorDescent (x0):\n",
    "    h = 0.0001\n",
    "    g = Grad(x0)\n",
    "    sum =np.sum(x0*np.exp(-h*g))\n",
    "    if sum != 0:\n",
    "        x1=x0*np.exp(-h*g)/sum\n",
    "    else:\n",
    "        return \"SUM = 0\"\n",
    "    #d = np.append(xarr,x1)\n",
    "    while np.linalg.norm(x1-x0) > 0.000001:\n",
    "        x0=x1\n",
    "        g = Grad(x0)\n",
    "        sum = np.sum(x0*np.exp(-h*g))\n",
    "        if sum != 0:\n",
    "            x1=x0*np.exp(-h*g)/sum\n",
    "        else:\n",
    "            return \"SUM = 0\"\n",
    "        #d = np.append(d,x1)\n",
    "    return x1"
   ]
  },
  {
   "cell_type": "code",
   "execution_count": 125,
   "metadata": {},
   "outputs": [],
   "source": [
    "def makeData ():\n",
    "    x = np.arange (-10, 10, 0.1)\n",
    "    y = np.arange (-10, 10, 0.1)\n",
    "    xgrid, ygrid = np.meshgrid(x, y)\n",
    "    zgrid = np.ndarray(shape=(200,200))\n",
    "    for i in range(0,199):\n",
    "        for j in range(0,199):\n",
    "            zgrid[i][j] = Function(np.array([x[i],y[j]]))\n",
    "    return xgrid, ygrid, zgrid"
   ]
  },
  {
   "cell_type": "code",
   "execution_count": 126,
   "metadata": {},
   "outputs": [],
   "source": [
    "def Draw(d):\n",
    "    m=d.size\n",
    "    k=int(m/2)\n",
    "    coord1=[0 for i in range(k)]\n",
    "    coord2=[0 for i in range(k)]\n",
    "    for i in range (0,m,2):\n",
    "        coord1[int(i/2)]=d[i]\n",
    "        coord2[int(i/2)]=d[i+1]\n",
    "    coords = np.array([coord1,coord2])\n",
    "    coord3=[0 for i in range(k)]\n",
    "    for i in range (k):\n",
    "        coord3[i]=Function(np.array([coords[0][i],coords[1][i]]))\n",
    "    x, y, z = makeData()\n",
    "\n",
    "    fig = pylab.figure()\n",
    "    axes = Axes3D(fig)\n",
    "    \n",
    "    axes.scatter(coords[0], coords[1], coord3, color = 'black')\n",
    "    axes.plot_surface(x, y, z, alpha = 0.3, color = 'yellow')\n",
    "    \n",
    "\n",
    "    pylab.show()"
   ]
  },
  {
   "cell_type": "code",
   "execution_count": 127,
   "metadata": {},
   "outputs": [],
   "source": [
    "def Grad_descent(x0):\n",
    "    h=0.0001\n",
    "    x1=x0-Grad(x0)*h\n",
    "    d = np.append(xarr,x1)\n",
    "    while (np.linalg.norm(x1-x0) > 0.000001):\n",
    "        x0=x1\n",
    "        x1= x0-Grad(x0)*h\n",
    "        d = np.append(d,x1)\n",
    "    #Draw(d)\n",
    "    return x1\n"
   ]
  },
  {
   "cell_type": "code",
   "execution_count": 168,
   "metadata": {},
   "outputs": [
    {
     "name": "stdout",
     "output_type": "stream",
     "text": [
      "[1.45004831 1.10002415]\n"
     ]
    }
   ],
   "source": [
    "print(Grad_descent(np.array([3,2])))"
   ]
  },
  {
   "cell_type": "code",
   "execution_count": 173,
   "metadata": {},
   "outputs": [
    {
     "name": "stdout",
     "output_type": "stream",
     "text": [
      "[0.7355981 0.2644019]\n"
     ]
    }
   ],
   "source": [
    "print(MirrorDescent(np.array([2,1])))"
   ]
  },
  {
   "cell_type": "code",
   "execution_count": 143,
   "metadata": {},
   "outputs": [
    {
     "name": "stdout",
     "output_type": "stream",
     "text": [
      "[2.71828183 5.43656366]\n"
     ]
    }
   ],
   "source": [
    "res = np.array([1,2])*np.exp(np.array([1,1]))\n",
    "print(res)"
   ]
  },
  {
   "cell_type": "code",
   "execution_count": null,
   "metadata": {},
   "outputs": [],
   "source": []
  }
 ],
 "metadata": {
  "kernelspec": {
   "display_name": "Python 3",
   "language": "python",
   "name": "python3"
  },
  "language_info": {
   "codemirror_mode": {
    "name": "ipython",
    "version": 3
   },
   "file_extension": ".py",
   "mimetype": "text/x-python",
   "name": "python",
   "nbconvert_exporter": "python",
   "pygments_lexer": "ipython3",
   "version": "3.7.3"
  }
 },
 "nbformat": 4,
 "nbformat_minor": 2
}
