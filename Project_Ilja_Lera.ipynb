{
 "cells": [
  {
   "cell_type": "code",
   "execution_count": 177,
   "metadata": {},
   "outputs": [],
   "source": [
    "from math import *\n",
    "import pylab\n",
    "from mpl_toolkits.mplot3d import Axes3D\n",
    "import numpy as np\n",
    "from matplotlib import pyplot as plt\n",
    "import time\n"
   ]
  },
  {
   "cell_type": "code",
   "execution_count": 178,
   "metadata": {},
   "outputs": [],
   "source": [
    "A = np.array([[2,11],[10,-11]]) #решение (2,1)\n",
    "b = np.array([15,9])\n",
    "l = 0\n"
   ]
  },
  {
   "cell_type": "code",
   "execution_count": 179,
   "metadata": {},
   "outputs": [],
   "source": [
    "def Function (x):\n",
    "    return np.linalg.norm(A.dot(x)-b)**2 + l*np.linalg.norm(x)"
   ]
  },
  {
   "cell_type": "code",
   "execution_count": 180,
   "metadata": {},
   "outputs": [],
   "source": [
    "def Grad (x):\n",
    "    if np.linalg.norm(x) == 0:\n",
    "        return 2*(A.T).dot(A.dot(x)-b)\n",
    "    return 2*(A.T).dot(A.dot(x)-b) + l*x/np.linalg.norm(x)"
   ]
  },
  {
   "cell_type": "code",
   "execution_count": 181,
   "metadata": {},
   "outputs": [],
   "source": [
    "def MirrorDescent (x0):\n",
    "    k=1\n",
    "    h = 0.0001/k\n",
    "    g = Grad(x0)\n",
    "    sum =np.sum(x0*np.exp(-h*g))\n",
    "    if sum != 0:\n",
    "        x1=x0*np.exp(-h*g)/sum\n",
    "    else:\n",
    "        return \"SUM = 0\"\n",
    "    #d = np.append(xarr,x1)\n",
    "    while np.linalg.norm(x1-x0) > 0.000001:\n",
    "        h = 0.0001/k\n",
    "        x0=x1\n",
    "        g = Grad(x0)\n",
    "        sum = np.sum(x0*np.exp(-h*g))\n",
    "        if sum != 0:\n",
    "            x1=x0*np.exp(-h*g)/sum\n",
    "        else:\n",
    "            return \"SUM = 0\"\n",
    "        k += 1\n",
    "        #d = np.append(d,x1)\n",
    "    return x1"
   ]
  },
  {
   "cell_type": "code",
   "execution_count": 182,
   "metadata": {},
   "outputs": [],
   "source": [
    "def makeData ():\n",
    "    x = np.arange (-10, 10, 0.1)\n",
    "    y = np.arange (-10, 10, 0.1)\n",
    "    xgrid, ygrid = np.meshgrid(x, y)\n",
    "    zgrid = np.ndarray(shape=(200,200))\n",
    "    for i in range(0,199):\n",
    "        for j in range(0,199):\n",
    "            zgrid[i][j] = Function(np.array([x[i],y[j]]))\n",
    "    return xgrid, ygrid, zgrid"
   ]
  },
  {
   "cell_type": "code",
   "execution_count": 183,
   "metadata": {},
   "outputs": [],
   "source": [
    "def Draw(d):\n",
    "    m=d.size\n",
    "    k=int(m/2)\n",
    "    coord1=[0 for i in range(k)]\n",
    "    coord2=[0 for i in range(k)]\n",
    "    for i in range (0,m,2):\n",
    "        coord1[int(i/2)]=d[i]\n",
    "        coord2[int(i/2)]=d[i+1]\n",
    "    coords = np.array([coord1,coord2])\n",
    "    coord3=[0 for i in range(k)]\n",
    "    for i in range (k):\n",
    "        coord3[i]=Function(np.array([coords[0][i],coords[1][i]]))\n",
    "    x, y, z = makeData()\n",
    "\n",
    "    fig = pylab.figure()\n",
    "    axes = Axes3D(fig)\n",
    "    \n",
    "    axes.scatter(coords[0], coords[1], coord3, color = 'black')\n",
    "    axes.plot_surface(x, y, z, alpha = 0.3, color = 'yellow')\n",
    "    \n",
    "\n",
    "    pylab.show()"
   ]
  },
  {
   "cell_type": "code",
   "execution_count": 184,
   "metadata": {},
   "outputs": [],
   "source": [
    "def Grad_descent(x0):\n",
    "    start_time = time.time()\n",
    "    xarr=np.array([])\n",
    "    h=0.0001\n",
    "    x1=x0-Grad(x0)*h\n",
    "    d = np.append(xarr,x1)\n",
    "    while (np.linalg.norm(x1-x0) > 0.000001):\n",
    "        x0=x1\n",
    "        x1= x0-Grad(x0)*h\n",
    "        d = np.append(d,x1)\n",
    "    #Draw(d)\n",
    "    print(\"Time - \", time.time() - start_time)\n",
    "    return x1\n"
   ]
  },
  {
   "cell_type": "code",
   "execution_count": 185,
   "metadata": {},
   "outputs": [],
   "source": [
    "def Delayed_Grad_descent(x0):\n",
    "    start_time = time.time()\n",
    "    h=0.0001\n",
    "    arrx = []\n",
    "    list.append(arrx, x0)\n",
    "    g0 = Grad(x0)\n",
    "    x0 = x0 - h*g0\n",
    "    g1 = Grad(x0)\n",
    "    list.append(arrx, x0)\n",
    "    x0 = x0 - h*g0\n",
    "    list.append(arrx, x0)\n",
    "    #d = np.append(xarr,x1)\n",
    "    while (np.linalg.norm(arrx[-1]-arrx[-2]) > 0.000001):\n",
    "        list.append(arrx, (arrx[-1]-h*g1))\n",
    "        g1 = g0\n",
    "        g0 = Grad(arrx[-1])\n",
    "        #d = np.append(d,x1)\n",
    "    #Draw(d)\n",
    "    print(\"Time - \", time.time() - start_time)\n",
    "    return arrx[-1]"
   ]
  },
  {
   "cell_type": "code",
   "execution_count": 201,
   "metadata": {},
   "outputs": [],
   "source": [
    "def Dual(x0, z):\n",
    "    start_time = time.time()\n",
    "    x1 = x0 + 1\n",
    "    xarr=np.array([])\n",
    "    k = 1\n",
    "    d = np.append(xarr,x0)\n",
    "    while (np.linalg.norm(x1-x0) > 0.00001):\n",
    "        q = 1/k\n",
    "        g = Grad(x0)\n",
    "        x1 = x0\n",
    "        z = z + g\n",
    "        x0 = -q*z\n",
    "        if np.linalg.norm(x0) < 100000: d = np.append(d,x0)\n",
    "        #print(\"X: \", x0)\n",
    "        k += 1\n",
    "    #Draw(d)\n",
    "    #print(d)\n",
    "    print(\"Time - \", time.time() - start_time)\n",
    "    return x0\n",
    "        "
   ]
  },
  {
   "cell_type": "code",
   "execution_count": 187,
   "metadata": {},
   "outputs": [
    {
     "name": "stdout",
     "output_type": "stream",
     "text": [
      "Time -  0.03686857223510742\n",
      "[2.00007183 1.00003496]\n"
     ]
    }
   ],
   "source": [
    "print(Grad_descent(np.array([3,2])))"
   ]
  },
  {
   "cell_type": "code",
   "execution_count": 188,
   "metadata": {},
   "outputs": [
    {
     "name": "stdout",
     "output_type": "stream",
     "text": [
      "[0.63166687 0.36833313]\n"
     ]
    }
   ],
   "source": [
    "print(MirrorDescent(np.array([3,2])))"
   ]
  },
  {
   "cell_type": "code",
   "execution_count": 192,
   "metadata": {},
   "outputs": [
    {
     "name": "stdout",
     "output_type": "stream",
     "text": [
      "Time -  0.029921293258666992\n",
      "[2.00007107 1.00003458]\n"
     ]
    }
   ],
   "source": [
    "print(Delayed_Grad_descent(np.array([3,2])))"
   ]
  },
  {
   "cell_type": "code",
   "execution_count": 202,
   "metadata": {},
   "outputs": [
    {
     "name": "stdout",
     "output_type": "stream",
     "text": [
      "Time -  0.16356205940246582\n",
      "[1.98405592 0.99219395]\n"
     ]
    }
   ],
   "source": [
    "print(Dual(np.array([3,2]), np.array([1,2])))"
   ]
  },
  {
   "cell_type": "code",
   "execution_count": null,
   "metadata": {},
   "outputs": [],
   "source": []
  }
 ],
 "metadata": {
  "kernelspec": {
   "display_name": "Python 3",
   "language": "python",
   "name": "python3"
  },
  "language_info": {
   "codemirror_mode": {
    "name": "ipython",
    "version": 3
   },
   "file_extension": ".py",
   "mimetype": "text/x-python",
   "name": "python",
   "nbconvert_exporter": "python",
   "pygments_lexer": "ipython3",
   "version": "3.7.3"
  }
 },
 "nbformat": 4,
 "nbformat_minor": 2
}
